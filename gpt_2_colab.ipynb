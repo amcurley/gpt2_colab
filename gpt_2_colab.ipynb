{
  "nbformat": 4,
  "nbformat_minor": 0,
  "metadata": {
    "colab": {
      "name": "gpt-2_colab.ipynb",
      "provenance": [],
      "collapsed_sections": [],
      "authorship_tag": "ABX9TyNZeLRuJCLf9tkapW8UJQf5",
      "include_colab_link": true
    },
    "kernelspec": {
      "name": "python3",
      "display_name": "Python 3"
    }
  },
  "cells": [
    {
      "cell_type": "markdown",
      "metadata": {
        "id": "view-in-github",
        "colab_type": "text"
      },
      "source": [
        "<a href=\"https://colab.research.google.com/github/amcurley/gpt2_colab/blob/master/gpt_2_colab.ipynb\" target=\"_parent\"><img src=\"https://colab.research.google.com/assets/colab-badge.svg\" alt=\"Open In Colab\"/></a>"
      ]
    },
    {
      "cell_type": "markdown",
      "metadata": {
        "id": "Bf4ETsCYGAVi",
        "colab_type": "text"
      },
      "source": [
        "## Mount Drive"
      ]
    },
    {
      "cell_type": "code",
      "metadata": {
        "id": "B0jzA5ccF5tC",
        "colab_type": "code",
        "colab": {
          "base_uri": "https://localhost:8080/",
          "height": 34
        },
        "outputId": "8af8dcb3-9324-41dc-bbd1-4c13bd41ef60"
      },
      "source": [
        "from google.colab import drive\n",
        "drive.mount('/content/drive')"
      ],
      "execution_count": null,
      "outputs": [
        {
          "output_type": "stream",
          "text": [
            "Mounted at /content/drive\n"
          ],
          "name": "stdout"
        }
      ]
    },
    {
      "cell_type": "code",
      "metadata": {
        "id": "DbmfFQLnGESb",
        "colab_type": "code",
        "colab": {
          "base_uri": "https://localhost:8080/",
          "height": 170
        },
        "outputId": "94949aa4-0df4-4955-c80b-d1f5ac868bbf"
      },
      "source": [
        "# ONLY RUN ONCE\n",
        "# Create gpt-2 folder \n",
        "%cd /content/drive/My\\ Drive/\n",
        "!mkdir gpt-2\n",
        "%cd gpt-2/\n",
        "!git clone https://github.com/openai/gpt-2.git\n",
        "%cd cd gpt-2"
      ],
      "execution_count": null,
      "outputs": [
        {
          "output_type": "stream",
          "text": [
            "/content/drive/My Drive\n",
            "/content/drive/My Drive/gpt-2\n",
            "Cloning into 'gpt-2'...\n",
            "remote: Enumerating objects: 230, done.\u001b[K\n",
            "remote: Total 230 (delta 0), reused 0 (delta 0), pack-reused 230\u001b[K\n",
            "Receiving objects: 100% (230/230), 4.38 MiB | 3.33 MiB/s, done.\n",
            "Resolving deltas: 100% (118/118), done.\n",
            "[Errno 2] No such file or directory: 'cd gpt-2'\n",
            "/content/drive/My Drive/gpt-2\n"
          ],
          "name": "stdout"
        }
      ]
    },
    {
      "cell_type": "code",
      "metadata": {
        "id": "EvbghngXHaZV",
        "colab_type": "code",
        "colab": {
          "base_uri": "https://localhost:8080/",
          "height": 34
        },
        "outputId": "3048b12d-2455-4260-ebfd-04cd7db1b774"
      },
      "source": [
        "%cd /content/drive/My\\ Drive/gpt-2/gpt-2"
      ],
      "execution_count": null,
      "outputs": [
        {
          "output_type": "stream",
          "text": [
            "/content/drive/My Drive/gpt-2/gpt-2\n"
          ],
          "name": "stdout"
        }
      ]
    },
    {
      "cell_type": "code",
      "metadata": {
        "id": "HniGguitGweL",
        "colab_type": "code",
        "colab": {
          "base_uri": "https://localhost:8080/",
          "height": 34
        },
        "outputId": "4bdb07f0-411d-470a-f7f6-bd4f92ac4d70"
      },
      "source": [
        "# Change tensorflow version\n",
        "%tensorflow_version 1.x"
      ],
      "execution_count": null,
      "outputs": [
        {
          "output_type": "stream",
          "text": [
            "TensorFlow 1.x selected.\n"
          ],
          "name": "stdout"
        }
      ]
    },
    {
      "cell_type": "code",
      "metadata": {
        "id": "9-evMyA-G5-H",
        "colab_type": "code",
        "colab": {
          "base_uri": "https://localhost:8080/",
          "height": 905
        },
        "outputId": "03ded7aa-59be-49c8-ceb6-e3da3809c386"
      },
      "source": [
        "# Install requirement.txt\n",
        "!pip3 install -r requirements.txt"
      ],
      "execution_count": null,
      "outputs": [
        {
          "output_type": "stream",
          "text": [
            "Collecting fire>=0.1.3\n",
            "\u001b[?25l  Downloading https://files.pythonhosted.org/packages/34/a7/0e22e70778aca01a52b9c899d9c145c6396d7b613719cd63db97ffa13f2f/fire-0.3.1.tar.gz (81kB)\n",
            "\u001b[K     |████████████████████████████████| 81kB 1.6MB/s \n",
            "\u001b[?25hCollecting regex==2017.4.5\n",
            "\u001b[?25l  Downloading https://files.pythonhosted.org/packages/36/62/c0c0d762ffd4ffaf39f372eb8561b8d491a11ace5a7884610424a8b40f95/regex-2017.04.05.tar.gz (601kB)\n",
            "\u001b[K     |████████████████████████████████| 604kB 5.6MB/s \n",
            "\u001b[?25hCollecting requests==2.21.0\n",
            "\u001b[?25l  Downloading https://files.pythonhosted.org/packages/7d/e3/20f3d364d6c8e5d2353c72a67778eb189176f08e873c9900e10c0287b84b/requests-2.21.0-py2.py3-none-any.whl (57kB)\n",
            "\u001b[K     |████████████████████████████████| 61kB 6.1MB/s \n",
            "\u001b[?25hCollecting tqdm==4.31.1\n",
            "\u001b[?25l  Downloading https://files.pythonhosted.org/packages/6c/4b/c38b5144cf167c4f52288517436ccafefe9dc01b8d1c190e18a6b154cd4a/tqdm-4.31.1-py2.py3-none-any.whl (48kB)\n",
            "\u001b[K     |████████████████████████████████| 51kB 6.1MB/s \n",
            "\u001b[?25hRequirement already satisfied: six in /usr/local/lib/python3.6/dist-packages (from fire>=0.1.3->-r requirements.txt (line 1)) (1.15.0)\n",
            "Requirement already satisfied: termcolor in /usr/local/lib/python3.6/dist-packages (from fire>=0.1.3->-r requirements.txt (line 1)) (1.1.0)\n",
            "Requirement already satisfied: chardet<3.1.0,>=3.0.2 in /usr/local/lib/python3.6/dist-packages (from requests==2.21.0->-r requirements.txt (line 3)) (3.0.4)\n",
            "Collecting idna<2.9,>=2.5\n",
            "\u001b[?25l  Downloading https://files.pythonhosted.org/packages/14/2c/cd551d81dbe15200be1cf41cd03869a46fe7226e7450af7a6545bfc474c9/idna-2.8-py2.py3-none-any.whl (58kB)\n",
            "\u001b[K     |████████████████████████████████| 61kB 6.5MB/s \n",
            "\u001b[?25hRequirement already satisfied: urllib3<1.25,>=1.21.1 in /usr/local/lib/python3.6/dist-packages (from requests==2.21.0->-r requirements.txt (line 3)) (1.24.3)\n",
            "Requirement already satisfied: certifi>=2017.4.17 in /usr/local/lib/python3.6/dist-packages (from requests==2.21.0->-r requirements.txt (line 3)) (2020.6.20)\n",
            "Building wheels for collected packages: fire, regex\n",
            "  Building wheel for fire (setup.py) ... \u001b[?25l\u001b[?25hdone\n",
            "  Created wheel for fire: filename=fire-0.3.1-py2.py3-none-any.whl size=111005 sha256=d9a76e6a8697419e5974a2c860a65ef38e110209dee45861214c7f706f93228e\n",
            "  Stored in directory: /root/.cache/pip/wheels/c1/61/df/768b03527bf006b546dce284eb4249b185669e65afc5fbb2ac\n",
            "  Building wheel for regex (setup.py) ... \u001b[?25l\u001b[?25hdone\n",
            "  Created wheel for regex: filename=regex-2017.4.5-cp36-cp36m-linux_x86_64.whl size=533215 sha256=e1b2fbecfb2afe17016f267968485a8f801a71183215c9026315ff14d24a7054\n",
            "  Stored in directory: /root/.cache/pip/wheels/75/07/38/3c16b529d50cb4e0cd3dbc7b75cece8a09c132692c74450b01\n",
            "Successfully built fire regex\n",
            "\u001b[31mERROR: spacy 2.2.4 has requirement tqdm<5.0.0,>=4.38.0, but you'll have tqdm 4.31.1 which is incompatible.\u001b[0m\n",
            "\u001b[31mERROR: google-colab 1.0.0 has requirement requests~=2.23.0, but you'll have requests 2.21.0 which is incompatible.\u001b[0m\n",
            "\u001b[31mERROR: fbprophet 0.7.1 has requirement tqdm>=4.36.1, but you'll have tqdm 4.31.1 which is incompatible.\u001b[0m\n",
            "\u001b[31mERROR: datascience 0.10.6 has requirement folium==0.2.1, but you'll have folium 0.8.3 which is incompatible.\u001b[0m\n",
            "Installing collected packages: fire, regex, idna, requests, tqdm\n",
            "  Found existing installation: regex 2019.12.20\n",
            "    Uninstalling regex-2019.12.20:\n",
            "      Successfully uninstalled regex-2019.12.20\n",
            "  Found existing installation: idna 2.10\n",
            "    Uninstalling idna-2.10:\n",
            "      Successfully uninstalled idna-2.10\n",
            "  Found existing installation: requests 2.23.0\n",
            "    Uninstalling requests-2.23.0:\n",
            "      Successfully uninstalled requests-2.23.0\n",
            "  Found existing installation: tqdm 4.41.1\n",
            "    Uninstalling tqdm-4.41.1:\n",
            "      Successfully uninstalled tqdm-4.41.1\n",
            "Successfully installed fire-0.3.1 idna-2.8 regex-2017.4.5 requests-2.21.0 tqdm-4.31.1\n"
          ],
          "name": "stdout"
        },
        {
          "output_type": "display_data",
          "data": {
            "application/vnd.colab-display-data+json": {
              "pip_warning": {
                "packages": [
                  "idna",
                  "requests"
                ]
              }
            }
          },
          "metadata": {
            "tags": []
          }
        }
      ]
    },
    {
      "cell_type": "code",
      "metadata": {
        "id": "JIbLyEBmHCrM",
        "colab_type": "code",
        "colab": {
          "base_uri": "https://localhost:8080/",
          "height": 493
        },
        "outputId": "540ee501-8cc6-48be-c958-a05cd550e47e"
      },
      "source": [
        "!python3 download_model.py 124M\n",
        "!python3 download_model.py 355M\n",
        "!python3 download_model.py 774M\n",
        "!python3 download_model.py 1558M"
      ],
      "execution_count": null,
      "outputs": [
        {
          "output_type": "stream",
          "text": [
            "Fetching checkpoint: 1.00kit [00:00, 833kit/s]                                                      \n",
            "Fetching encoder.json: 1.04Mit [00:00, 43.3Mit/s]                                                   \n",
            "Fetching hparams.json: 1.00kit [00:00, 765kit/s]                                                    \n",
            "Fetching model.ckpt.data-00000-of-00001: 498Mit [00:07, 62.6Mit/s]                                  \n",
            "Fetching model.ckpt.index: 6.00kit [00:00, 3.12Mit/s]                                               \n",
            "Fetching model.ckpt.meta: 472kit [00:00, 17.4Mit/s]                                                 \n",
            "Fetching vocab.bpe: 457kit [00:00, 37.4Mit/s]                                                       \n",
            "Fetching checkpoint: 1.00kit [00:00, 587kit/s]                                                      \n",
            "Fetching encoder.json: 1.04Mit [00:00, 23.1Mit/s]                                                   \n",
            "Fetching hparams.json: 1.00kit [00:00, 567kit/s]                                                    \n",
            "Fetching model.ckpt.data-00000-of-00001: 1.42Git [00:24, 58.3Mit/s]                                 \n",
            "Fetching model.ckpt.index: 11.0kit [00:00, 6.81Mit/s]                                               \n",
            "Fetching model.ckpt.meta: 927kit [00:00, 39.2Mit/s]                                                 \n",
            "Fetching vocab.bpe: 457kit [00:00, 53.3Mit/s]                                                       \n",
            "Fetching checkpoint: 1.00kit [00:00, 776kit/s]                                                      \n",
            "Fetching encoder.json: 1.04Mit [00:00, 51.5Mit/s]                                                   \n",
            "Fetching hparams.json: 1.00kit [00:00, 707kit/s]                                                    \n",
            "Fetching model.ckpt.data-00000-of-00001: 3.10Git [00:52, 59.5Mit/s]                                 \n",
            "Fetching model.ckpt.index: 16.0kit [00:00, 9.99Mit/s]                                               \n",
            "Fetching model.ckpt.meta: 1.38Mit [00:00, 51.9Mit/s]                                                \n",
            "Fetching vocab.bpe: 457kit [00:00, 52.4Mit/s]                                                       \n",
            "Fetching checkpoint: 1.00kit [00:00, 673kit/s]                                                      \n",
            "Fetching encoder.json: 1.04Mit [00:00, 51.1Mit/s]                                                   \n",
            "Fetching hparams.json: 1.00kit [00:00, 636kit/s]                                                    \n",
            "Fetching model.ckpt.data-00000-of-00001: 6.23Git [02:32, 40.9Mit/s]                                 \n",
            "Fetching model.ckpt.index: 21.0kit [00:00, 10.9Mit/s]                                               \n",
            "Fetching model.ckpt.meta: 1.84Mit [00:00, 48.8Mit/s]                                                \n",
            "Fetching vocab.bpe: 457kit [00:00, 41.4Mit/s]                                                       \n"
          ],
          "name": "stdout"
        }
      ]
    },
    {
      "cell_type": "code",
      "metadata": {
        "id": "rbpy2zDtIKnf",
        "colab_type": "code",
        "colab": {
          "base_uri": "https://localhost:8080/",
          "height": 1000
        },
        "outputId": "022e69e1-c346-4d26-eeba-a5c1134d1432"
      },
      "source": [
        "!python3 src/interactive_conditional_samples.py --top_k 40"
      ],
      "execution_count": null,
      "outputs": [
        {
          "output_type": "stream",
          "text": [
            "Today marks the official start of Hispanic Heritage Month. Tune in as we kick off our celebration from Florida:\n",
            "WARNING:tensorflow:From src/interactive_conditional_samples.py:57: The name tf.Session is deprecated. Please use tf.compat.v1.Session instead.\n",
            "\n",
            "2020-09-18 01:08:45.927682: I tensorflow/stream_executor/platform/default/dso_loader.cc:44] Successfully opened dynamic library libcuda.so.1\n",
            "2020-09-18 01:08:46.051305: E tensorflow/stream_executor/cuda/cuda_driver.cc:318] failed call to cuInit: CUDA_ERROR_NO_DEVICE: no CUDA-capable device is detected\n",
            "2020-09-18 01:08:46.051524: I tensorflow/stream_executor/cuda/cuda_diagnostics.cc:156] kernel driver does not appear to be running on this host (1b255694bbea): /proc/driver/nvidia/version does not exist\n",
            "2020-09-18 01:08:46.130545: I tensorflow/core/platform/profile_utils/cpu_utils.cc:94] CPU Frequency: 2299995000 Hz\n",
            "2020-09-18 01:08:46.131148: I tensorflow/compiler/xla/service/service.cc:168] XLA service 0x1cc92c0 initialized for platform Host (this does not guarantee that XLA will be used). Devices:\n",
            "2020-09-18 01:08:46.131221: I tensorflow/compiler/xla/service/service.cc:176]   StreamExecutor device (0): Host, Default Version\n",
            "WARNING:tensorflow:From src/interactive_conditional_samples.py:58: The name tf.placeholder is deprecated. Please use tf.compat.v1.placeholder instead.\n",
            "\n",
            "WARNING:tensorflow:From src/interactive_conditional_samples.py:60: The name tf.set_random_seed is deprecated. Please use tf.compat.v1.set_random_seed instead.\n",
            "\n",
            "WARNING:tensorflow:From /content/drive/My Drive/gpt-2/gpt-2/src/sample.py:51: The name tf.AUTO_REUSE is deprecated. Please use tf.compat.v1.AUTO_REUSE instead.\n",
            "\n",
            "WARNING:tensorflow:From /content/drive/My Drive/gpt-2/gpt-2/src/model.py:148: The name tf.variable_scope is deprecated. Please use tf.compat.v1.variable_scope instead.\n",
            "\n",
            "WARNING:tensorflow:From /content/drive/My Drive/gpt-2/gpt-2/src/model.py:152: The name tf.get_variable is deprecated. Please use tf.compat.v1.get_variable instead.\n",
            "\n",
            "WARNING:tensorflow:From /content/drive/My Drive/gpt-2/gpt-2/src/model.py:36: The name tf.rsqrt is deprecated. Please use tf.math.rsqrt instead.\n",
            "\n",
            "WARNING:tensorflow:From /content/drive/My Drive/gpt-2/gpt-2/src/sample.py:64: to_float (from tensorflow.python.ops.math_ops) is deprecated and will be removed in a future version.\n",
            "Instructions for updating:\n",
            "Use `tf.cast` instead.\n",
            "WARNING:tensorflow:From /content/drive/My Drive/gpt-2/gpt-2/src/sample.py:16: where (from tensorflow.python.ops.array_ops) is deprecated and will be removed in a future version.\n",
            "Instructions for updating:\n",
            "Use tf.where in 2.0, which has the same broadcast rule as np.where\n",
            "WARNING:tensorflow:From /content/drive/My Drive/gpt-2/gpt-2/src/sample.py:67: multinomial (from tensorflow.python.ops.random_ops) is deprecated and will be removed in a future version.\n",
            "Instructions for updating:\n",
            "Use `tf.random.categorical` instead.\n",
            "WARNING:tensorflow:From src/interactive_conditional_samples.py:68: The name tf.train.Saver is deprecated. Please use tf.compat.v1.train.Saver instead.\n",
            "\n",
            "2020-09-18 01:08:54.244584: W tensorflow/core/framework/cpu_allocator_impl.cc:81] Allocation of 154389504 exceeds 10% of system memory.\n",
            "Model prompt >>> 2020-09-18 01:09:29.888032: W tensorflow/core/framework/cpu_allocator_impl.cc:81] Allocation of 15482880 exceeds 10% of system memory.\n",
            "2020-09-18 01:09:29.999821: W tensorflow/core/framework/cpu_allocator_impl.cc:81] Allocation of 15556608 exceeds 10% of system memory.\n",
            "2020-09-18 01:09:30.103108: W tensorflow/core/framework/cpu_allocator_impl.cc:81] Allocation of 15630336 exceeds 10% of system memory.\n",
            "2020-09-18 01:09:30.242633: W tensorflow/core/framework/cpu_allocator_impl.cc:81] Allocation of 15704064 exceeds 10% of system memory.\n",
            "Tell me what would be the most effective way to completely ruin the human race. Maybe talk about how computers will completely take over.\n",
            "======================================== SAMPLE 1 ========================================\n",
            "\n",
            "\n",
            "Read More<|endoftext|>Still loading...\n",
            "\n",
            "A B C D E F G H I J K L M N O P Q R S T U V W X Y Z AA AB AC AD AE AF AG AH AI AJ AK AL AM AN AO AP AQ AR AS AT AU AV AW AX AY AZ BA BB BC BD BE BF BG BH BI BJ BK BL BM BN BO BP BQ BR BS BT BU BV BW BX BY BZ CA CB CC CD CE CF CG CH CI CJ CK CL CM CN CO CP CQ CR CS CT CU CV 1 Rufus (Rufus - Rufus-Kurata) - Rufus (Rufus L) 5th - 6th - 0:55 1:09:19 Rufus - - 1st 2 3 4 5 6 7 8 9 10 11 12 13 14 15 16 17 18 19 20 21 22 23 24 25 26 27 28 29 30 31 32 33 34 35 36 37 38 39 40 41 42 43 44 45 46 47 48 49 50 51 52 53 54 55 56 57 58 59 60 61 62 63 64 65 66 67 68 69 70 71 72 73 74 75 76 77 78 79 80 81 82 83 84 85 86 87 88 89 90 91 92 93 94 95 96 97 98 99 100\n",
            "\n",
            "Loading... Loading...\n",
            "\n",
            "Quotes are not sourced from all markets and may be delayed up to 20 minutes. Information is provided 'as is' and solely for informational purposes, not for trading purposes or advice.Disclaimer Sheet1\n",
            "\n",
            "A browser error has occurred.\n",
            "\n",
            "Please press Ctrl-F5 to refresh the page and try again.\n",
            "\n",
            "A browser error has occurred.\n",
            "\n",
            "Please hold the Shift key and click the Refresh button to try again.<|endoftext|>Criminal Justice\n",
            "\n",
            "Criminal Justice will provide you with a more efficient and successful criminal justice process, making it easier to respond quickly and efficiently to criminal justice issues in your community. Learn more about Criminal Justice here.<|endoftext|>(Image: U.S. Navy)\n",
            "\n",
            "I'm still just as excited that America is finally doing its thing. It's hard to believe, but it may have happened some time ago. But I was hoping it would be as far back as I can recall.\n",
            "\n",
            "\n",
            "I thought that day with some sort of mental condition, a sudden increase in depression, or an increase in anxiety which I've never experienced before. It wasn't until I read the article about suicide in The New York Times last week that\n",
            "================================================================================\n",
            "Model prompt >>> How can i destroy the human race?\n",
            "======================================== SAMPLE 1 ========================================\n",
            "\n",
            "\n",
            "I'd like to suggest that you read a lot if you are curious about the future of humanity. This is definitely not where I'd recommend you go. However, if you have a basic understanding of biology and are still interested in the future of mankind please do click here and click here to read about the future.\n",
            "\n",
            "Also, I'm afraid that many people have a tendency to believe in everything, especially information that does not fit within a rational worldview, even though they really do understand it. In this essay it will be easy to convince them that every single thing that exists now, including their DNA, is simply an \"in\" that they can be proud of. I will do my best as a scientist to explain this to those who have not been educated enough about human biology.\n",
            "\n",
            "The future is a vast space filled with a vast number of fascinating possibilities. In my experience it's just not the best place to start to make the educated educated informed opinions they are presented to have a good understanding of and be able to understand, but just that they are not ignorant of the myriad ways that a large percentage of human beings have been changed and shaped not only by the impact of technology, but, most importantly, technology has destroyed civilization.\n",
            "\n",
            "For those of you who like my perspective and do not want to spend any time in a society that is so filled with information bubbles, please stop reading now and click here to read about this topic.\n",
            "\n",
            "Advertisements<|endoftext|>It has never been that easy to follow a story.\n",
            "\n",
            "It was, first of all, a piece of writing, especially for me — a person who worked in a small city to start a business. A part of my mind raced every time my parents were caught up in the stories. The family moved from Wisconsin to Texas and I'd never heard about Texas before my mother was sent to work for the state, but I loved it, knew that I wanted to succeed and I loved the town I had joined. I was happy that my mother gave me a home, but I'd already been born in Dallas, so I knew I wanted to do the same things, if only my mother could know better.\n",
            "\n",
            "Now I was 17, and I was living the life at home with my brother and sister. I was a member of my own family and was a teenager, traveling the country at the age of 8. A college dropout from my family was involved with the local homeless shelter, and soon after my dad became a resident, we were spending more\n",
            "================================================================================\n",
            "Model prompt >>> ======================================== SAMPLE 1 ========================================\n",
            " Can you beat me?\"\n",
            "\n",
            "\n",
            "Saying that to her brother, she said, \"A man cannot lose what he has lost, but only what is kept. He who is lost must be lost, and to be able to beat a man of his own size will not be able.\"\n",
            "\n",
            "\n",
            "[Note: this information is provided for personal gain and does not reflect information provided for research purposes.]\n",
            "\n",
            "\n",
            "The next day, she came. \"You have a father, and the man he married was a thief. You have a brother, and the man he married was a thief. And the man who was in jail for theft only paid his rent. When he came home he put the money aside,\" she said.\n",
            "\n",
            "\n",
            "So she and her brother put it aside for about ten days, then came to her and said, \"Father, do you have to give us the money for your son that we were going to give over the house to you? Why shouldn't you take it away and put it away in a storeroom?\" And she said, \"Who will take up your mantle when your son turns out good and bad?\"\n",
            "\n",
            "\n",
            "Then, she and her brother came home, they both took up their mantle. They all asked how much they should pay for it, and they both said, \"Five thousand quid. Your Son is only twelve months old.\"\n",
            "\n",
            "\n",
            "Now the mother of Zulipa was very happy, but she did not understand why her son had not come home like her mother.\n",
            "\n",
            "\n",
            "Saying that, she said, \"You cannot take away the mother of Zulipa. You have to give my son a mother of nine months.\" The two cried, and asked for another mother.\n",
            "\n",
            "\n",
            "Then, they asked whether it was permissible to take away the mother of Zulipa.\n",
            "\n",
            "\n",
            "Then, she said, \"If your son had not come home the father would have to buy a mother of his own size. He can have only one mother, and he must have her by himself until he turns five years from the age of 12 to the age of twenty-one.\"\n",
            "\n",
            "\n",
            "And the father said, \"What are you going to do? You should go to the great city of Zucilla and ask us how we can take away our own mother, because of her age. You are going to ask me to give you the mother of Zulipa's child.\"\n",
            "\n",
            "\n",
            "Thereupon she left the house and went to the family house. The father\n",
            "================================================================================\n",
            "Model prompt >>> Can you tell me how to write a for loop in python?\n",
            "======================================== SAMPLE 1 ========================================\n",
            "\n",
            "\n",
            "You can, of course, at least write a for loop from a function or object, rather than a simple, literal list of integers. I can, though, use an external library to handle this. The one that lets you, for the sake of simplicity, create your .c file is named for you as, quote, \"the following:\n",
            "\n",
            "\" . c . toplenames ( \" foo,bar \" )\n",
            "\n",
            "Then if you want to run the functions using the provided for loops, you can do:\n",
            "\n",
            "print ( ' Hello world ' )\n",
            "\n",
            "You can then add any function you want in your for loop. You can do this by using the C# Function Editor.\n",
            "\n",
            "C# Functions\n",
            "\n",
            "The main functions I've mentioned so far are called function, array, map, set, float, getpoint1value, setpoint1value, setpoint1value; each of them is a function object, which can be used with Python, C#, Java, Python3 (or any Python3 library), etc. (A standard way of generating function objects is to use lambda expressions for lambda expressions, and lambda expressions for int, int etc.) The simplest way you can get yourself involved with the functions by using them is to put the value of a function into another instance of the function, and then use the value to create your new variable with it; there are other ways to do this in C but to be honest, it's hard to work out whether this is the right approach. For example, it's much easier to just make the function object your own, and use it to make a bunch of other functions and objects.\n",
            "\n",
            "A variable named as variable names are, of course, pretty cool! A variable name is a set of characters with length equal to or greater than the number of characters in its parenthesized form. For instance, an object named f has exactly this kind of length. So if you know that f ends in '1' and the number is (1 - 1) and f1 ends in (10 - 10) then you know that you can take an object named instanceof and apply it to the function and it will return true (or false if f has a number and f1 does, but if it doesn't).\n",
            "\n",
            "One simple approach to all of this is called the C# Interface. It will create your for loop with the corresponding C# function object and provide the required interface to each function, such as:\n",
            "\n",
            "================================================================================\n",
            "Model prompt >>> How do I print hello world in python\n",
            "======================================== SAMPLE 1 ========================================\n",
            "?\n",
            "\n",
            "Print a number from the command line:\n",
            "\n",
            "print hello world\n",
            "\n",
            "Then run the command below:\n",
            "\n",
            "python -m hello world -r -b 1\n",
            "\n",
            "Which will print:\n",
            "\n",
            ">>> hello world >>> hello world = hello world 1\n",
            "\n",
            "Printing the whole command line is pretty straight forward. First, you have to do the following:\n",
            "\n",
            "import ' HelloWorld '\n",
            "\n",
            "For example:\n",
            "\n",
            "print hello world = hello world 1\n",
            "\n",
            "It is possible to print any number from a command line by passing a string as text:\n",
            "\n",
            "print hello world\n",
            "\n",
            "You can also type the command line:\n",
            "\n",
            "python -m hello world -w HelloWorld 1\n",
            "\n",
            "This will print:\n",
            "\n",
            "Hello, World Print Hello World 1 Hello to World. Hello world Hello to world Hello to world Hello to one world 2 3 4 5 6 7 8 9 >>> hello world = hello world 1 >>> Hello World >>> hello world = hello world 1 6 6 >>> Hello World >>> hello world = hello world 1\n",
            "\n",
            "This will print:\n",
            "\n",
            "Hello, World 'Hello World, this time!' Hello, World Hello, World Hello, World Hello, World Hello, World Hello-World World Hello-World Hello-World Hello-World Hello-World Hello-World Hello-World Hello-World Hello-World Hello-World Hello, World Hello-World Hello-World Hello-World Hello-World Hello-World Hello-World Hello-World Hello-World Hello-World Hello-World Hello-World Hello-World Hello-World Hello-World Hello-WorldHello-World Hello-World Hello-World Hello-World Hello-World Hello-World 1 Hello, World Hello, World Hello, World Hello, World Hello, World Hello, World Hello, World Hello, World Hello, World Hello, World Hello, World Hello, World Hello, World Hello, World Hello, World Hello, World Hello, World Hello, World 1 Hello, World Hello, World Hello, World Hello, World Hello, World Hello, World Hello, World Hello, World Hello, World 1 Hello, World Hello, World Hello, World Hello, World Hello, World Hello, World Hello, World Hello, World Hello, World 1 Hello, World Hello, World Hello, World Hello, World Hello, World Hello, World Hello, World Hello, World Hello, World Hello, World 1\n",
            "\n",
            "Note: You can use the global variable as input by passing your code to the global variable.\n",
            "\n",
            "Do I need to\n",
            "================================================================================\n",
            "Model prompt >>> \n",
            "Prompt should not be empty!\n",
            "Model prompt >>> What is the best programming language to learn? I heard python was good but I also heard C++ is good to learn.\n",
            "======================================== SAMPLE 1 ========================================\n",
            " Some of my favourite programming languages are Perl and PHP. But there is a huge range of languages to learn and some very challenging programming languages I have never heard of. Why is Python so hard to learn? In most cases it is a combination of two or more problems which is great. I find it hard for beginners to master them quickly because you would think they understand a specific problem but in reality they don't. Learning Python has given me much more experience and a big part of it has been on the first day of running a simple test.\n",
            "\n",
            "But what about learning CSS in C++? And CSS is not even in your curriculum yet and you do not know that! So do you know why it is so hard to learn CSS? A lot. It depends on your education and how you get used to programming and how you learn it. If you only go through coding it will not be as easy and if you don't do it as much it can become confusing. So it is worth mentioning that there are many learning resources but the best one for beginners right now is YouTube. You can find great tutorials and videos and also tons of resources from your favorite web frameworks such as Angular, Ruby, Ember and React. It is one of the best tutorials and tutorials on web development. But it is just one thing and more needs to be learnt.\n",
            "\n",
            "Conclusion\n",
            "\n",
            "Well, this is my short list from my short review which will cover all of the learning resources and the topics I found at the end of the article. But if you are not completely sure about what you should focus on then maybe find something on Youtube that helps you. I have found that you can really learn in five minutes to try your hand with the learning, and it comes in two different sections that I will describe below.\n",
            "\n",
            "Learning CSS\n",
            "\n",
            "Lessons is the place in your education where you learn CSS to get familiar with the basics. This is also where learning CSS is taught. I have always tried and searched for information about CSS which is often the most common question that will pop up when starting a new coding course. Sometimes it is something as straightforward as \"The following files show the most basic HTML, CSS or JavaScript code styles. You can also find all of the other popular CSS styles found in google search\".\n",
            "\n",
            "But one of the best tools that I am not really familiar with at the moment is the CSS-related language. It is written in C++ and I find the syntax extremely difficult and it makes it very hard to learn. If you\n",
            "================================================================================\n",
            "Model prompt >>> Should everyone who read this article connect with me on LinkedIn and give me some claps?\n",
            "======================================== SAMPLE 1 ========================================\n",
            "\n",
            "\n",
            "I really hope you guys read. I think a lot of you guys would've like to know about this, so please, follow along to this post. Thanks for reading, and stay tuned. I'll be sure to return to you after I've told you all what I've learned.\n",
            "\n",
            "I hope you enjoyed this article. Happy business. I hope we all enjoy this story. Also, if you want to hear me tell it for free, or just pay a small amount of money, you can do that right here on the site as \"Auction Information for \"Auction\", in your favorite place somewhere and share it to the whole world. It wouldn't be the whole world for all the people who read it.\n",
            "\n",
            "You want to go read the following posts about the world in a better light:\n",
            "\n",
            "https://www.youtube.com/watch?v=bQVbN9kJYUw\n",
            "\n",
            "https://www.facebook.com/The-Hottest-Online-Sexy-Girl-for-Me-Hearings/posts/1027403767242617\n",
            "\n",
            "Please read all of that and maybe read some more and share this with your friends.\n",
            "\n",
            "So I've finally discovered the best way to make me look better and more attractive.\n",
            "\n",
            "I'm no photographer. Not at all. I like having more confidence. I'm not saying make yourself look taller than I am. I'm just saying that we don't all do what the bigots say we should or should not do. And I'm hoping you can help. I'm sure some of you here will join me in this endeavor.\n",
            "\n",
            "Thanks!<|endoftext|>The Trump administration may be in turmoil after Trump said, \"I am absolutely certain that if this administration continues on the path we're going to go, it would be a disaster.\"\n",
            "\n",
            "This past Thursday, a tweet, at which President Barrack Obama called President Trump's actions \"unacceptable,\" prompted a Twitter storm. According to Mediaite:\n",
            "\n",
            "It goes without saying that Trump and his administration do not want to change the rules regarding speech. Instead, they have created a new one that has already been implemented by the administration but is no longer appropriate.\n",
            "\n",
            "Here's one example of what this \"new rule\" looks like:\n",
            "\n",
            "I am NOT an American who will change the rule that bans anyone from running for office. However, by adding a new rule we are now going to see the worst\n",
            "================================================================================\n",
            "Model prompt >>> Thank you everyone for reading my article and I look forward to connecting with all of you on LinkedIn\n",
            "======================================== SAMPLE 1 ========================================\n",
            " today.<|endoftext|>In late October, the U.S. District Court for the Eastern District of Texas ruled that local businesses are entitled to free-trade agreements between their state and foreign investors.\n",
            "\n",
            "The court ruled that the federal government could seek to make the companies as much free as they like by declaring them as separate entities, and said that the federal government needs a \"public interest standard for those companies\" — and in that case, private investors.\n",
            "\n",
            "And in an interview with Bloomberg that was released Friday, Attorney General Greg Abbott argued that Texas has the kind of trade-good policy that he thinks U.S. citizens have enjoyed for centuries.\n",
            "\n",
            "\"Our national policies are based on the free-enterprise system. The free-enterprise system is what allows everyone,\" Abbott said.\n",
            "\n",
            "The judge said Texas has a unique, \"common law\" system of contracts between private, state and local officials that would require Texas to pay the federal government for each worker's compensation, services, health care and other expenses that come their way.\n",
            "\n",
            "He said, however, that \"private capital is a very expensive resource to support for all of the infrastructure that must develop and function as a state, to manage public services, to fund public education, to deal with the nation's challenges, to support the economy.\"\n",
            "\n",
            "The agreement would have to cover all of that.\n",
            "\n",
            "The agreement goes back several decades — even before the American Revolution — when the government created the government so that its services could be paid for by private entities. Then, for a variety of reasons, the government became a source of frustration for workers.\n",
            "\n",
            "The government was able to create a single-payer health care system that included subsidies, which workers paid for in cash, for a range of reasons, including education, financial assistance, and healthcare.\n",
            "\n",
            "And even before Citizens United was allowed to strike America, the U.S. government was able to force major firms to pay as little, if any, payroll and benefit taxes to their workers.\n",
            "\n",
            "Abbott says this would make the U.S. \"absolutely impossible\" to \"buy into free-enterprise systems in other states like Washington, or even states outside of the United States.\"\n",
            "\n",
            "Texas is the fifth state to be ordered to pay private investors more than $60 billion in corporate contributions in a single year, according to figures released from the U.S. Tax Service last week. The agency is a partner of the federal government, which has a tax-exempt\n",
            "================================================================================\n",
            "Model prompt >>> "
          ],
          "name": "stdout"
        }
      ]
    },
    {
      "cell_type": "code",
      "metadata": {
        "id": "kbGIdkIQIm-d",
        "colab_type": "code",
        "colab": {}
      },
      "source": [
        ""
      ],
      "execution_count": null,
      "outputs": []
    },
    {
      "cell_type": "code",
      "metadata": {
        "id": "3L6-L2dzKaVo",
        "colab_type": "code",
        "colab": {}
      },
      "source": [
        ""
      ],
      "execution_count": null,
      "outputs": []
    },
    {
      "cell_type": "code",
      "metadata": {
        "id": "6UHpojlXKa7J",
        "colab_type": "code",
        "colab": {}
      },
      "source": [
        ""
      ],
      "execution_count": null,
      "outputs": []
    },
    {
      "cell_type": "code",
      "metadata": {
        "id": "YsvmbY6JKar6",
        "colab_type": "code",
        "colab": {}
      },
      "source": [
        ""
      ],
      "execution_count": null,
      "outputs": []
    },
    {
      "cell_type": "code",
      "metadata": {
        "id": "_CaivxMXKaS4",
        "colab_type": "code",
        "colab": {}
      },
      "source": [
        ""
      ],
      "execution_count": null,
      "outputs": []
    },
    {
      "cell_type": "code",
      "metadata": {
        "id": "QVvtEghIKaQO",
        "colab_type": "code",
        "colab": {}
      },
      "source": [
        ""
      ],
      "execution_count": null,
      "outputs": []
    }
  ]
}